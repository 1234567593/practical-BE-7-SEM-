{
 "cells": [
  {
   "cell_type": "code",
   "execution_count": 1,
   "id": "1e3a2dbf",
   "metadata": {},
   "outputs": [
    {
     "name": "stdout",
     "output_type": "stream",
     "text": [
      "Iteration 1: x = 1.000000, y = 16.000000\n",
      "Iteration 2: x = 0.200000, y = 10.240000\n",
      "Iteration 3: x = -0.440000, y = 6.553600\n",
      "Iteration 4: x = -0.952000, y = 4.194304\n",
      "Iteration 5: x = -1.361600, y = 2.684355\n",
      "Iteration 6: x = -1.689280, y = 1.717987\n",
      "Iteration 7: x = -1.951424, y = 1.099512\n",
      "Iteration 8: x = -2.161139, y = 0.703687\n",
      "Iteration 9: x = -2.328911, y = 0.450360\n",
      "Iteration 10: x = -2.463129, y = 0.288230\n",
      "Iteration 11: x = -2.570503, y = 0.184467\n",
      "Iteration 12: x = -2.656403, y = 0.118059\n",
      "Iteration 13: x = -2.725122, y = 0.075558\n",
      "Iteration 14: x = -2.780098, y = 0.048357\n",
      "Iteration 15: x = -2.824078, y = 0.030949\n",
      "Iteration 16: x = -2.859263, y = 0.019807\n",
      "Iteration 17: x = -2.887410, y = 0.012677\n",
      "Iteration 18: x = -2.909928, y = 0.008113\n",
      "Iteration 19: x = -2.927942, y = 0.005192\n",
      "Iteration 20: x = -2.942354, y = 0.003323\n",
      "Iteration 21: x = -2.953883, y = 0.002127\n",
      "Iteration 22: x = -2.963107, y = 0.001361\n",
      "Iteration 23: x = -2.970485, y = 0.000871\n",
      "Iteration 24: x = -2.976388, y = 0.000558\n",
      "Iteration 25: x = -2.981111, y = 0.000357\n",
      "Iteration 26: x = -2.984888, y = 0.000228\n",
      "Iteration 27: x = -2.987911, y = 0.000146\n",
      "Iteration 28: x = -2.990329, y = 0.000094\n",
      "Iteration 29: x = -2.992263, y = 0.000060\n",
      "Iteration 30: x = -2.993810, y = 0.000038\n",
      "Iteration 31: x = -2.995048, y = 0.000025\n",
      "Iteration 32: x = -2.996039, y = 0.000016\n",
      "Iteration 33: x = -2.996831, y = 0.000010\n",
      "Iteration 34: x = -2.997465, y = 0.000006\n",
      "Iteration 35: x = -2.997972, y = 0.000004\n",
      "Iteration 36: x = -2.998377, y = 0.000003\n",
      "Iteration 37: x = -2.998702, y = 0.000002\n",
      "Iteration 38: x = -2.998962, y = 0.000001\n",
      "Iteration 39: x = -2.999169, y = 0.000001\n",
      "Iteration 40: x = -2.999335, y = 0.000000\n",
      "Iteration 41: x = -2.999468, y = 0.000000\n",
      "Iteration 42: x = -2.999575, y = 0.000000\n",
      "Iteration 43: x = -2.999660, y = 0.000000\n",
      "Iteration 44: x = -2.999728, y = 0.000000\n",
      "Iteration 45: x = -2.999782, y = 0.000000\n",
      "Iteration 46: x = -2.999826, y = 0.000000\n",
      "Iteration 47: x = -2.999861, y = 0.000000\n",
      "Iteration 48: x = -2.999888, y = 0.000000\n",
      "Iteration 49: x = -2.999911, y = 0.000000\n",
      "Iteration 50: x = -2.999929, y = 0.000000\n",
      "Iteration 51: x = -2.999943, y = 0.000000\n",
      "Iteration 52: x = -2.999954, y = 0.000000\n",
      "Iteration 53: x = -2.999963, y = 0.000000\n",
      "Iteration 54: x = -2.999971, y = 0.000000\n",
      "Iteration 55: x = -2.999977, y = 0.000000\n",
      "Iteration 56: x = -2.999981, y = 0.000000\n",
      "Iteration 57: x = -2.999985, y = 0.000000\n",
      "Iteration 58: x = -2.999988, y = 0.000000\n",
      "Iteration 59: x = -2.999990, y = 0.000000\n",
      "Iteration 60: x = -2.999992, y = 0.000000\n",
      "Iteration 61: x = -2.999994, y = 0.000000\n",
      "Iteration 62: x = -2.999995, y = 0.000000\n",
      "Iteration 63: x = -2.999996, y = 0.000000\n",
      "Local minima found at x = -2.999995, y = 0.000000\n"
     ]
    }
   ],
   "source": [
    "# Define the function and its derivative\n",
    "def function(x):\n",
    "    return (x + 3)**2  # The function y = (x + 3)^2\n",
    "\n",
    "def derivative(x):\n",
    "    return 2 * (x + 3)  # The derivative dy/dx = 2(x + 3)\n",
    "\n",
    "# Gradient Descent Parameters\n",
    "x = 2  # Starting point\n",
    "learning_rate = 0.1  # Step size\n",
    "tolerance = 1e-6  # Stop when the gradient is very small\n",
    "max_iterations = 100  # Limit the number of iterations\n",
    "\n",
    "# Gradient Descent Algorithm\n",
    "for i in range(max_iterations):\n",
    "    grad = derivative(x)  # Calculate the gradient\n",
    "    new_x = x - learning_rate * grad  # Update x\n",
    "    \n",
    "    # Print current state\n",
    "    print(f\"Iteration {i+1}: x = {new_x:.6f}, y = {function(new_x):.6f}\")\n",
    "    \n",
    "    # Check if the change is small enough to stop\n",
    "    if abs(new_x - x) < tolerance:\n",
    "        break\n",
    "    \n",
    "    x = new_x  # Update x for the next iteration\n",
    "\n",
    "# Final Result\n",
    "print(f\"Local minima found at x = {x:.6f}, y = {function(x):.6f}\")\n"
   ]
  },
  {
   "cell_type": "code",
   "execution_count": 3,
   "id": "d73c36e0",
   "metadata": {},
   "outputs": [
    {
     "name": "stdout",
     "output_type": "stream",
     "text": [
      "Local minima found at x = -4.199892, y = 1.439741\n"
     ]
    }
   ],
   "source": [
    "from sklearn.linear_model import SGDRegressor\n",
    "import numpy as np\n",
    "\n",
    "# Generate synthetic data\n",
    "X = np.linspace(-10, 10, 100).reshape(-1, 1)  # 100 points between -10 and 10\n",
    "y = (X + 3)**2  # Function: y = (x + 3)^2\n",
    "\n",
    "# Initialize the SGD Regressor\n",
    "model = SGDRegressor(learning_rate='constant', eta0=0.01, max_iter=1000, tol=1e-6, random_state=42)\n",
    "\n",
    "# Fit the model\n",
    "model.fit(X, y.ravel())  # ravel() converts y to 1D array\n",
    "\n",
    "# Predicted minimum\n",
    "min_x = -model.intercept_ / model.coef_  # Formula for minimum point in regression\n",
    "min_y = (min_x + 3)**2  # Substitute back into the function\n",
    "\n",
    "# Output\n",
    "print(f\"Local minima found at x = {min_x[0]:.6f}, y = {min_y[0]:.6f}\")\n"
   ]
  },
  {
   "cell_type": "code",
   "execution_count": null,
   "id": "c24314b8",
   "metadata": {},
   "outputs": [],
   "source": []
  }
 ],
 "metadata": {
  "kernelspec": {
   "display_name": "Python 3 (ipykernel)",
   "language": "python",
   "name": "python3"
  },
  "language_info": {
   "codemirror_mode": {
    "name": "ipython",
    "version": 3
   },
   "file_extension": ".py",
   "mimetype": "text/x-python",
   "name": "python",
   "nbconvert_exporter": "python",
   "pygments_lexer": "ipython3",
   "version": "3.11.5"
  }
 },
 "nbformat": 4,
 "nbformat_minor": 5
}
